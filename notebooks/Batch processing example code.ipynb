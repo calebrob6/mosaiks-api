{
 "cells": [
  {
   "cell_type": "code",
   "execution_count": 1,
   "id": "345f85e1",
   "metadata": {},
   "outputs": [],
   "source": [
    "import sys\n",
    "sys.path.append(\"..\")\n",
    "import os\n",
    "import time\n",
    "import tempfile\n",
    "from collections import defaultdict\n",
    "RASTERIO_BEST_PRACTICES = dict(\n",
    "    CURL_CA_BUNDLE=\"/etc/ssl/certs/ca-certificates.crt\",\n",
    "    GDAL_DISABLE_READDIR_ON_OPEN=\"EMPTY_DIR\",\n",
    "    AWS_NO_SIGN_REQUEST=\"YES\",\n",
    "    GDAL_MAX_RAW_BLOCK_CACHE_SIZE=\"200000000\",\n",
    "    GDAL_SWATH_SIZE=\"200000000\",\n",
    "    VSI_CURL_CACHE_SIZE=\"200000000\",\n",
    ")\n",
    "os.environ.update(RASTERIO_BEST_PRACTICES)\n",
    "\n",
    "import numpy as np\n",
    "import pandas as pd\n",
    "import matplotlib.pyplot as plt\n",
    "\n",
    "import torch\n",
    "import torch.nn as nn\n",
    "import torch.nn.functional as F\n",
    "from torch.utils.data import Dataset, DataLoader\n",
    "\n",
    "import rasterio\n",
    "import rasterio.warp\n",
    "import rasterio.mask\n",
    "import shapely.geometry\n",
    "\n",
    "from NAIPTileIndex import NAIPTileIndex\n",
    "from models import RCF, featurize"
   ]
  },
  {
   "cell_type": "code",
   "execution_count": 2,
   "id": "cd8b46c7",
   "metadata": {},
   "outputs": [],
   "source": [
    "device = torch.device('cuda')"
   ]
  },
  {
   "cell_type": "markdown",
   "id": "9a695f79",
   "metadata": {},
   "source": [
    "## Initialize model"
   ]
  },
  {
   "cell_type": "code",
   "execution_count": 3,
   "id": "c97d2dd6",
   "metadata": {},
   "outputs": [],
   "source": [
    "num_features = 1024\n",
    "\n",
    "model = RCF(num_features).eval().to(device)"
   ]
  },
  {
   "cell_type": "markdown",
   "id": "2ea28307",
   "metadata": {},
   "source": [
    "## Read data"
   ]
  },
  {
   "cell_type": "code",
   "execution_count": 5,
   "id": "c54b393b",
   "metadata": {},
   "outputs": [],
   "source": [
    "df = pd.read_csv(\"../data/outcomes_sampled_population_CONTUS_16_640_POP_100000_0.csv\", index_col=0)\n",
    "points = df[[\"lon\", \"lat\"]].values\n",
    "y_all = df[\"population\"].values"
   ]
  },
  {
   "cell_type": "markdown",
   "id": "f2bd4ec2",
   "metadata": {},
   "source": [
    "## Extract features method 1"
   ]
  },
  {
   "cell_type": "code",
   "execution_count": 6,
   "id": "2309279c",
   "metadata": {},
   "outputs": [],
   "source": [
    "index = NAIPTileIndex(\"../tmp/\")"
   ]
  },
  {
   "cell_type": "code",
   "execution_count": 9,
   "id": "43d26372",
   "metadata": {
    "scrolled": true
   },
   "outputs": [
    {
     "name": "stdout",
     "output_type": "stream",
     "text": [
      "0/100000 -- 0.00 -- 0.00 seconds\n",
      "100/100000 -- 0.10 -- 27.89 seconds\n",
      "200/100000 -- 0.20 -- 27.52 seconds\n"
     ]
    }
   ],
   "source": [
    "buffer_distance = 250  # in meters\n",
    "x_all_new = np.zeros((points.shape[0], num_features), dtype=float)\n",
    "\n",
    "tic = time.time()\n",
    "for i, (lon, lat) in enumerate(points):\n",
    "    \n",
    "    if i % 100 == 0:\n",
    "        print(f\"{i}/{points.shape[0]} -- {i / points.shape[0] * 100:0.2f} -- {time.time()-tic:0.2f} seconds\")\n",
    "        tic = time.time()\n",
    "    \n",
    "    if i % 200 == 0 and i > 0:\n",
    "        break\n",
    "    \n",
    "    point_geom = shapely.geometry.mapping(\n",
    "        shapely.geometry.Point(lon, lat)\n",
    "    )\n",
    "    \n",
    "    fns = list(set(index.lookup_point(lat, lon)))\n",
    "    fns = sorted(fns, key=lambda x: int(x.split(\"/\")[6])) # sort by year\n",
    "    \n",
    "    fn = fns[-1]    \n",
    "    \n",
    "    with rasterio.open(fn, \"r\") as f:\n",
    "        point_geom = rasterio.warp.transform_geom(\"epsg:4326\", f.crs.to_string(), point_geom)\n",
    "        point_shape = shapely.geometry.shape(point_geom)\n",
    "        \n",
    "        mask_shape = point_shape.buffer(buffer_distance).envelope\n",
    "        mask_geom = shapely.geometry.mapping(mask_shape)\n",
    "        \n",
    "        out_image, out_transform = rasterio.mask.mask(f, [mask_geom], crop=True)\n",
    "        \n",
    "    features = featurize(out_image, model, device)\n",
    "    x_all_new[i] = features"
   ]
  },
  {
   "cell_type": "markdown",
   "id": "209fafe6",
   "metadata": {},
   "source": [
    "## Extract features method 2"
   ]
  },
  {
   "cell_type": "code",
   "execution_count": 7,
   "id": "7eec79e6",
   "metadata": {},
   "outputs": [],
   "source": [
    "class CustomDataset(Dataset):\n",
    "\n",
    "    def __init__(self, points, fns, buffer=250):\n",
    "        self.points = points\n",
    "        self.fns = fns\n",
    "        self.buffer = buffer\n",
    "\n",
    "    def __len__(self):\n",
    "        return self.points.shape[0]\n",
    "\n",
    "    def __getitem__(self, idx):\n",
    "        \n",
    "        lon, lat = self.points[idx]\n",
    "        fn = self.fns[idx]\n",
    "        \n",
    "        point_geom = shapely.geometry.mapping(\n",
    "            shapely.geometry.Point(lon, lat)\n",
    "        )\n",
    "        \n",
    "        with rasterio.Env():\n",
    "            with rasterio.open(fn, \"r\") as f:\n",
    "                point_geom = rasterio.warp.transform_geom(\"epsg:4326\", f.crs.to_string(), point_geom)\n",
    "                point_shape = shapely.geometry.shape(point_geom)\n",
    "                mask_shape = point_shape.buffer(self.buffer).envelope\n",
    "                mask_geom = shapely.geometry.mapping(mask_shape)\n",
    "                out_image, out_transform = rasterio.mask.mask(f, [mask_geom], crop=True)\n",
    "        \n",
    "        out_image = (out_image / 255.0)\n",
    "        out_image = torch.from_numpy(out_image).float()\n",
    "        return out_image"
   ]
  },
  {
   "cell_type": "code",
   "execution_count": 10,
   "id": "89491c9b",
   "metadata": {},
   "outputs": [
    {
     "name": "stdout",
     "output_type": "stream",
     "text": [
      "CPU times: user 35.3 s, sys: 1.48 s, total: 36.8 s\n",
      "Wall time: 36.8 s\n"
     ]
    }
   ],
   "source": [
    "%%time\n",
    "index = NAIPTileIndex(\"../tmp/\")\n",
    "all_fns = []\n",
    "for i, (lon, lat) in enumerate(points):\n",
    "    point_geom = shapely.geometry.mapping(\n",
    "        shapely.geometry.Point(lon, lat)\n",
    "    )\n",
    "    \n",
    "    fns = list(set(index.lookup_point(lat, lon)))\n",
    "    fns = sorted(fns, key=lambda x: int(x.split(\"/\")[6])) # sort by year\n",
    "    fn = fns[-1]    \n",
    "    all_fns.append(fn)"
   ]
  },
  {
   "cell_type": "code",
   "execution_count": 11,
   "id": "a5954bc1",
   "metadata": {},
   "outputs": [],
   "source": [
    "buffer_distance = 250  # in meters\n",
    "dataset = CustomDataset(points, all_fns, buffer=buffer_distance)\n",
    "\n",
    "dataloader = DataLoader(\n",
    "    dataset,\n",
    "    batch_size=8,\n",
    "    shuffle=False,\n",
    "    num_workers=8,\n",
    "    collate_fn=lambda x: x,\n",
    "    pin_memory=False\n",
    ")"
   ]
  },
  {
   "cell_type": "code",
   "execution_count": 12,
   "id": "f166013b",
   "metadata": {
    "scrolled": true
   },
   "outputs": [
    {
     "name": "stdout",
     "output_type": "stream",
     "text": [
      "0/100000 -- 0.00 -- 3.24 seconds\n",
      "1000/100000 -- 1.00 -- 35.26 seconds\n",
      "2000/100000 -- 2.00 -- 38.30 seconds\n",
      "3000/100000 -- 3.00 -- 33.66 seconds\n",
      "4000/100000 -- 4.00 -- 33.62 seconds\n",
      "5000/100000 -- 5.00 -- 35.95 seconds\n",
      "6000/100000 -- 6.00 -- 35.55 seconds\n",
      "7000/100000 -- 7.00 -- 34.08 seconds\n",
      "8000/100000 -- 8.00 -- 37.05 seconds\n",
      "9000/100000 -- 9.00 -- 36.71 seconds\n",
      "10000/100000 -- 10.00 -- 34.99 seconds\n",
      "11000/100000 -- 11.00 -- 34.63 seconds\n",
      "12000/100000 -- 12.00 -- 35.59 seconds\n",
      "13000/100000 -- 13.00 -- 34.51 seconds\n",
      "14000/100000 -- 14.00 -- 35.02 seconds\n",
      "15000/100000 -- 15.00 -- 35.08 seconds\n",
      "16000/100000 -- 16.00 -- 34.28 seconds\n",
      "17000/100000 -- 17.00 -- 35.62 seconds\n",
      "18000/100000 -- 18.00 -- 34.31 seconds\n",
      "19000/100000 -- 19.00 -- 34.37 seconds\n",
      "20000/100000 -- 20.00 -- 35.91 seconds\n",
      "21000/100000 -- 21.00 -- 34.30 seconds\n",
      "22000/100000 -- 22.00 -- 33.94 seconds\n",
      "23000/100000 -- 23.00 -- 34.59 seconds\n",
      "24000/100000 -- 24.00 -- 33.82 seconds\n",
      "25000/100000 -- 25.00 -- 34.82 seconds\n",
      "26000/100000 -- 26.00 -- 33.39 seconds\n",
      "27000/100000 -- 27.00 -- 33.68 seconds\n",
      "28000/100000 -- 28.00 -- 33.40 seconds\n",
      "29000/100000 -- 29.00 -- 32.74 seconds\n",
      "30000/100000 -- 30.00 -- 34.27 seconds\n",
      "31000/100000 -- 31.00 -- 32.49 seconds\n",
      "32000/100000 -- 32.00 -- 33.90 seconds\n",
      "33000/100000 -- 33.00 -- 33.37 seconds\n",
      "34000/100000 -- 34.00 -- 35.65 seconds\n",
      "35000/100000 -- 35.00 -- 32.14 seconds\n",
      "36000/100000 -- 36.00 -- 34.84 seconds\n",
      "37000/100000 -- 37.00 -- 33.43 seconds\n",
      "38000/100000 -- 38.00 -- 33.83 seconds\n",
      "39000/100000 -- 39.00 -- 32.86 seconds\n",
      "40000/100000 -- 40.00 -- 33.54 seconds\n",
      "41000/100000 -- 41.00 -- 33.89 seconds\n",
      "42000/100000 -- 42.00 -- 32.51 seconds\n",
      "43000/100000 -- 43.00 -- 33.36 seconds\n",
      "44000/100000 -- 44.00 -- 33.24 seconds\n",
      "45000/100000 -- 45.00 -- 32.36 seconds\n",
      "46000/100000 -- 46.00 -- 34.78 seconds\n",
      "47000/100000 -- 47.00 -- 32.61 seconds\n",
      "48000/100000 -- 48.00 -- 35.43 seconds\n",
      "49000/100000 -- 49.00 -- 32.85 seconds\n",
      "50000/100000 -- 50.00 -- 32.79 seconds\n",
      "51000/100000 -- 51.00 -- 32.94 seconds\n",
      "52000/100000 -- 52.00 -- 32.05 seconds\n",
      "53000/100000 -- 53.00 -- 32.30 seconds\n",
      "54000/100000 -- 54.00 -- 32.37 seconds\n",
      "55000/100000 -- 55.00 -- 32.40 seconds\n",
      "56000/100000 -- 56.00 -- 32.95 seconds\n",
      "57000/100000 -- 57.00 -- 34.23 seconds\n",
      "58000/100000 -- 58.00 -- 33.59 seconds\n",
      "59000/100000 -- 59.00 -- 33.26 seconds\n",
      "60000/100000 -- 60.00 -- 32.72 seconds\n",
      "61000/100000 -- 61.00 -- 32.75 seconds\n",
      "62000/100000 -- 62.00 -- 32.65 seconds\n",
      "63000/100000 -- 63.00 -- 32.50 seconds\n",
      "64000/100000 -- 64.00 -- 32.20 seconds\n",
      "65000/100000 -- 65.00 -- 32.71 seconds\n",
      "66000/100000 -- 66.00 -- 32.40 seconds\n",
      "67000/100000 -- 67.00 -- 32.72 seconds\n",
      "68000/100000 -- 68.00 -- 32.76 seconds\n",
      "69000/100000 -- 69.00 -- 32.45 seconds\n",
      "70000/100000 -- 70.00 -- 32.70 seconds\n",
      "71000/100000 -- 71.00 -- 33.42 seconds\n",
      "72000/100000 -- 72.00 -- 32.51 seconds\n",
      "73000/100000 -- 73.00 -- 32.21 seconds\n",
      "74000/100000 -- 74.00 -- 32.37 seconds\n",
      "75000/100000 -- 75.00 -- 32.87 seconds\n",
      "76000/100000 -- 76.00 -- 33.11 seconds\n",
      "77000/100000 -- 77.00 -- 32.66 seconds\n",
      "78000/100000 -- 78.00 -- 32.20 seconds\n",
      "79000/100000 -- 79.00 -- 32.37 seconds\n",
      "80000/100000 -- 80.00 -- 32.84 seconds\n",
      "81000/100000 -- 81.00 -- 32.99 seconds\n",
      "82000/100000 -- 82.00 -- 32.62 seconds\n",
      "83000/100000 -- 83.00 -- 32.23 seconds\n",
      "84000/100000 -- 84.00 -- 32.45 seconds\n",
      "85000/100000 -- 85.00 -- 32.53 seconds\n",
      "86000/100000 -- 86.00 -- 33.86 seconds\n",
      "87000/100000 -- 87.00 -- 32.47 seconds\n",
      "88000/100000 -- 88.00 -- 32.45 seconds\n",
      "89000/100000 -- 89.00 -- 32.48 seconds\n",
      "90000/100000 -- 90.00 -- 32.63 seconds\n",
      "91000/100000 -- 91.00 -- 33.09 seconds\n",
      "92000/100000 -- 92.00 -- 34.60 seconds\n",
      "93000/100000 -- 93.00 -- 32.37 seconds\n",
      "94000/100000 -- 94.00 -- 32.10 seconds\n",
      "95000/100000 -- 95.00 -- 32.48 seconds\n",
      "96000/100000 -- 96.00 -- 33.13 seconds\n",
      "97000/100000 -- 97.00 -- 33.51 seconds\n",
      "98000/100000 -- 98.00 -- 34.22 seconds\n",
      "99000/100000 -- 99.00 -- 33.34 seconds\n"
     ]
    }
   ],
   "source": [
    "x_all = np.zeros((points.shape[0], num_features), dtype=float)\n",
    "\n",
    "tic = time.time()\n",
    "i = 0\n",
    "for images in dataloader: \n",
    "    for image in images:\n",
    "        \n",
    "        if image.shape[0] == 4:\n",
    "            image = image.to(device)\n",
    "            with torch.no_grad():\n",
    "                feats = model(image.unsqueeze(0)).cpu().numpy() \n",
    "        \n",
    "            x_all[i] = feats\n",
    "        elif image.shape[0] == 3:\n",
    "            pass # this happens in at least Nevada for some points\n",
    "        \n",
    "        if i % 1000 == 0:\n",
    "            print(f\"{i}/{points.shape[0]} -- {i / points.shape[0] * 100:0.2f} -- {time.time()-tic:0.2f} seconds\")\n",
    "            tic = time.time()\n",
    "        i += 1"
   ]
  },
  {
   "cell_type": "code",
   "execution_count": 13,
   "id": "4ef015d7",
   "metadata": {},
   "outputs": [
    {
     "data": {
      "text/plain": [
       "(100000, 1024)"
      ]
     },
     "execution_count": 13,
     "metadata": {},
     "output_type": "execute_result"
    }
   ],
   "source": [
    "x_all.shape"
   ]
  },
  {
   "cell_type": "code",
   "execution_count": 14,
   "id": "71a3c44c",
   "metadata": {},
   "outputs": [
    {
     "data": {
      "text/plain": [
       "(100000,)"
      ]
     },
     "execution_count": 14,
     "metadata": {},
     "output_type": "execute_result"
    }
   ],
   "source": [
    "y_all.shape"
   ]
  },
  {
   "cell_type": "code",
   "execution_count": 15,
   "id": "7e3e7621",
   "metadata": {},
   "outputs": [],
   "source": [
    "from sklearn.linear_model import RidgeCV\n",
    "from sklearn.model_selection import train_test_split\n",
    "from sklearn.metrics import r2_score"
   ]
  },
  {
   "cell_type": "code",
   "execution_count": 16,
   "id": "ccdf7a9c",
   "metadata": {},
   "outputs": [],
   "source": [
    "x_train, x_test, y_train, y_test = train_test_split(x_all, y_all, test_size=0.2, random_state=0)"
   ]
  },
  {
   "cell_type": "code",
   "execution_count": 17,
   "id": "7f2182f7",
   "metadata": {},
   "outputs": [
    {
     "name": "stderr",
     "output_type": "stream",
     "text": [
      "/anaconda/envs/torchgeo/lib/python3.8/site-packages/sklearn/linear_model/_ridge.py:147: LinAlgWarning: Ill-conditioned matrix (rcond=8.72023e-17): result may not be accurate.\n",
      "  return linalg.solve(A, Xy, sym_pos=True,\n",
      "/anaconda/envs/torchgeo/lib/python3.8/site-packages/sklearn/linear_model/_ridge.py:147: LinAlgWarning: Ill-conditioned matrix (rcond=8.80552e-17): result may not be accurate.\n",
      "  return linalg.solve(A, Xy, sym_pos=True,\n",
      "/anaconda/envs/torchgeo/lib/python3.8/site-packages/sklearn/linear_model/_ridge.py:147: LinAlgWarning: Ill-conditioned matrix (rcond=8.85765e-17): result may not be accurate.\n",
      "  return linalg.solve(A, Xy, sym_pos=True,\n",
      "/anaconda/envs/torchgeo/lib/python3.8/site-packages/sklearn/linear_model/_ridge.py:147: LinAlgWarning: Ill-conditioned matrix (rcond=8.49918e-17): result may not be accurate.\n",
      "  return linalg.solve(A, Xy, sym_pos=True,\n",
      "/anaconda/envs/torchgeo/lib/python3.8/site-packages/sklearn/linear_model/_ridge.py:147: LinAlgWarning: Ill-conditioned matrix (rcond=8.78474e-17): result may not be accurate.\n",
      "  return linalg.solve(A, Xy, sym_pos=True,\n"
     ]
    },
    {
     "data": {
      "text/plain": [
       "RidgeCV(alphas=array([1.e-08, 1.e-07, 1.e-06, 1.e-05, 1.e-04, 1.e-03, 1.e-02, 1.e-01,\n",
       "       1.e+00, 1.e+01, 1.e+02, 1.e+03, 1.e+04, 1.e+05, 1.e+06, 1.e+07,\n",
       "       1.e+08]),\n",
       "        cv=5)"
      ]
     },
     "execution_count": 17,
     "metadata": {},
     "output_type": "execute_result"
    }
   ],
   "source": [
    "ridge_cv = RidgeCV(cv=5, alphas = np.logspace(-8,8,base=10,num=17))\n",
    "ridge_cv.fit(x_train, y_train)"
   ]
  },
  {
   "cell_type": "code",
   "execution_count": 18,
   "id": "fdc36476",
   "metadata": {},
   "outputs": [
    {
     "data": {
      "text/plain": [
       "0.45673052321015195"
      ]
     },
     "execution_count": 18,
     "metadata": {},
     "output_type": "execute_result"
    }
   ],
   "source": [
    "ridge_cv.best_score_"
   ]
  },
  {
   "cell_type": "code",
   "execution_count": 19,
   "id": "af624451",
   "metadata": {},
   "outputs": [],
   "source": [
    "y_pred = np.maximum(ridge_cv.predict(x_test), 0)"
   ]
  },
  {
   "cell_type": "code",
   "execution_count": 20,
   "id": "12df5c75",
   "metadata": {},
   "outputs": [
    {
     "data": {
      "text/plain": [
       "0.4974736845711334"
      ]
     },
     "execution_count": 20,
     "metadata": {},
     "output_type": "execute_result"
    }
   ],
   "source": [
    "r2_score(y_test, y_pred)"
   ]
  },
  {
   "cell_type": "code",
   "execution_count": 21,
   "id": "c493f1b3",
   "metadata": {},
   "outputs": [
    {
     "data": {
      "image/png": "[encoded data removed]",
      "text/plain": [
       "<Figure size 432x288 with 1 Axes>"
      ]
     },
     "metadata": {
      "needs_background": "light"
     },
     "output_type": "display_data"
    }
   ],
   "source": [
    "plt.figure()\n",
    "plt.scatter(y_test, y_pred)\n",
    "plt.show()\n",
    "plt.close()"
   ]
  },
  {
   "cell_type": "code",
   "execution_count": null,
   "id": "466238f8",
   "metadata": {},
   "outputs": [],
   "source": []
  }
 ],
 "metadata": {
  "kernelspec": {
   "display_name": "mosaiks",
   "language": "python",
   "name": "conda-env-mosaiks-py"
  },
  "language_info": {
   "codemirror_mode": {
    "name": "ipython",
    "version": 3
   },
   "file_extension": ".py",
   "mimetype": "text/x-python",
   "name": "python",
   "nbconvert_exporter": "python",
   "pygments_lexer": "ipython3",
   "version": "3.9.6"
  }
 },
 "nbformat": 4,
 "nbformat_minor": 5
}
