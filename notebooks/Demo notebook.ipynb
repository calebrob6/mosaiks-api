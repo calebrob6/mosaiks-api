{
 "cells": [
  {
   "cell_type": "code",
   "execution_count": 1,
   "id": "f8a156ed",
   "metadata": {},
   "outputs": [],
   "source": [
    "import requests\n",
    "import pandas as pd"
   ]
  },
  {
   "cell_type": "markdown",
   "id": "e3138463",
   "metadata": {},
   "source": [
    "## Example of extracting features with the API"
   ]
  },
  {
   "cell_type": "code",
   "execution_count": 2,
   "id": "993743bc",
   "metadata": {},
   "outputs": [],
   "source": [
    "df = pd.read_csv(\"../data/outcomes_sampled_population_CONTUS_16_640_POP_100000_0.csv\", index_col=0)\n",
    "points = df[[\"lon\", \"lat\"]].values\n",
    "y_all = df[\"population\"].values"
   ]
  },
  {
   "cell_type": "markdown",
   "id": "d4bba368",
   "metadata": {},
   "source": [
    "### NAIP single point"
   ]
  },
  {
   "cell_type": "code",
   "execution_count": 3,
   "id": "e65238cd",
   "metadata": {},
   "outputs": [
    {
     "name": "stdout",
     "output_type": "stream",
     "text": [
      "Response status code: 200\n",
      "1024\n",
      "CPU times: user 6.89 ms, sys: 648 µs, total: 7.54 ms\n",
      "Wall time: 1.3 s\n"
     ]
    }
   ],
   "source": [
    "%%time\n",
    "lon, lat = points[0]\n",
    "\n",
    "r = requests.post('http://msrcalebubuntu.eastus.cloudapp.azure.com:8080/featurizeNAIPSingle', json={\n",
    "    'longitude': lon,\n",
    "    'latitude': lat\n",
    "})\n",
    "status_code = r.status_code\n",
    "response = r.json()\n",
    "print(f\"Response status code: {status_code}\")\n",
    "print(len(response[\"features\"]))"
   ]
  },
  {
   "cell_type": "markdown",
   "id": "e7512055",
   "metadata": {},
   "source": [
    "### NAIP multiple points"
   ]
  },
  {
   "cell_type": "code",
   "execution_count": 4,
   "id": "dc28885f",
   "metadata": {},
   "outputs": [
    {
     "name": "stdout",
     "output_type": "stream",
     "text": [
      "Response status code: 200\n",
      "2\n",
      "CPU times: user 0 ns, sys: 4.48 ms, total: 4.48 ms\n",
      "Wall time: 737 ms\n"
     ]
    }
   ],
   "source": [
    "%%time\n",
    "lon0, lat0 = points[0]\n",
    "lon1, lat1 = points[1]\n",
    "\n",
    "r = requests.post('http://msrcalebubuntu.eastus.cloudapp.azure.com:8080/featurizeNAIPBatched', json={\n",
    "    'longitudes': [lon0, lon1],\n",
    "    'latitudes': [lat0, lat1]\n",
    "})\n",
    "status_code = r.status_code\n",
    "response = r.json()\n",
    "print(f\"Response status code: {status_code}\")\n",
    "print(len(response[\"features\"]))"
   ]
  },
  {
   "cell_type": "markdown",
   "id": "b05d862f",
   "metadata": {},
   "source": [
    "### Sentinel 2 single point"
   ]
  },
  {
   "cell_type": "code",
   "execution_count": 5,
   "id": "67bec87b",
   "metadata": {},
   "outputs": [
    {
     "name": "stdout",
     "output_type": "stream",
     "text": [
      "Response status code: 200\n",
      "1024\n",
      "CPU times: user 4.78 ms, sys: 187 µs, total: 4.96 ms\n",
      "Wall time: 2.38 s\n"
     ]
    }
   ],
   "source": [
    "%%time\n",
    "lon, lat = points[0]\n",
    "\n",
    "r = requests.post('http://msrcalebubuntu.eastus.cloudapp.azure.com:8080/featurizeSentinel2Single', json={\n",
    "    'longitude': lon,\n",
    "    'latitude': lat\n",
    "})\n",
    "status_code = r.status_code\n",
    "response = r.json()\n",
    "print(f\"Response status code: {status_code}\")\n",
    "print(len(response[\"features\"]))"
   ]
  },
  {
   "cell_type": "markdown",
   "id": "73d1522f",
   "metadata": {},
   "source": [
    "## Examples of failure cases"
   ]
  },
  {
   "cell_type": "code",
   "execution_count": 6,
   "id": "80033b63",
   "metadata": {},
   "outputs": [
    {
     "name": "stdout",
     "output_type": "stream",
     "text": [
      "Response status code: 500\n",
      "{'message': \"'longitude' is a required parameter but wasn't sent\"}\n"
     ]
    }
   ],
   "source": [
    "## Missing parameter\n",
    "r = requests.post('http://msrcalebubuntu.eastus.cloudapp.azure.com:8080/featurizeNAIPSingle', json={\n",
    "    'latitude': 0\n",
    "})\n",
    "status_code = r.status_code\n",
    "response = r.json()\n",
    "print(f\"Response status code: {status_code}\")\n",
    "print(response)"
   ]
  },
  {
   "cell_type": "code",
   "execution_count": 7,
   "id": "f66c1a91",
   "metadata": {},
   "outputs": [
    {
     "name": "stdout",
     "output_type": "stream",
     "text": [
      "Response status code: 500\n",
      "{'message': 'No tile intersections'}\n"
     ]
    }
   ],
   "source": [
    "## Requested point is out of bounds\n",
    "r = requests.post('http://msrcalebubuntu.eastus.cloudapp.azure.com:8080/featurizeNAIPSingle', json={\n",
    "    'longitude': 0,\n",
    "    'latitude': 0\n",
    "})\n",
    "status_code = r.status_code\n",
    "response = r.json()\n",
    "print(f\"Response status code: {status_code}\")\n",
    "print(response)"
   ]
  },
  {
   "cell_type": "code",
   "execution_count": 8,
   "id": "b927d095",
   "metadata": {},
   "outputs": [
    {
     "name": "stdout",
     "output_type": "stream",
     "text": [
      "Response status code: 500\n",
      "{'message': \"The 'latitudes' and 'longitudes' inputs are not the same length\"}\n"
     ]
    }
   ],
   "source": [
    "## Requested point is out of bounds\n",
    "r = requests.post('http://msrcalebubuntu.eastus.cloudapp.azure.com:8080/featurizeNAIPBatched', json={\n",
    "    'longitudes': [lon0, lon1],\n",
    "    'latitudes': [lat0]\n",
    "})\n",
    "status_code = r.status_code\n",
    "response = r.json()\n",
    "print(f\"Response status code: {status_code}\")\n",
    "print(response)"
   ]
  },
  {
   "cell_type": "code",
   "execution_count": 9,
   "id": "d7ce2533",
   "metadata": {},
   "outputs": [
    {
     "name": "stdout",
     "output_type": "stream",
     "text": [
      "Response status code: 500\n",
      "{'message': 'The maximum number of points you can process at once is 1000'}\n"
     ]
    }
   ],
   "source": [
    "## Requested point is out of bounds\n",
    "r = requests.post('http://msrcalebubuntu.eastus.cloudapp.azure.com:8080/featurizeNAIPBatched', json={\n",
    "    'longitudes': list(range(1001)),\n",
    "    'latitudes': list(range(1001))\n",
    "})\n",
    "status_code = r.status_code\n",
    "response = r.json()\n",
    "print(f\"Response status code: {status_code}\")\n",
    "print(response)"
   ]
  }
 ],
 "metadata": {
  "kernelspec": {
   "display_name": "mosaiks",
   "language": "python",
   "name": "conda-env-mosaiks-py"
  },
  "language_info": {
   "codemirror_mode": {
    "name": "ipython",
    "version": 3
   },
   "file_extension": ".py",
   "mimetype": "text/x-python",
   "name": "python",
   "nbconvert_exporter": "python",
   "pygments_lexer": "ipython3",
   "version": "3.9.6"
  }
 },
 "nbformat": 4,
 "nbformat_minor": 5
}
